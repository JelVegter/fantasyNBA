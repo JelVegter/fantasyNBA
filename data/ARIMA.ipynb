{
 "cells": [
  {
   "cell_type": "code",
   "execution_count": null,
   "metadata": {},
   "outputs": [],
   "source": [
    "# check if the series is stationary using the Augmented Dickey Fuller test (ADF Test)"
   ]
  },
  {
   "cell_type": "code",
   "execution_count": 6,
   "metadata": {},
   "outputs": [],
   "source": [
    "import numpy as np\n",
    "import pandas as pd\n",
    "from full_player_stats import get_dataframe, calculate_points\n",
    "from statsmodels.tsa.arima_model import ARIMA\n",
    "import pmdarima as pm"
   ]
  },
  {
   "cell_type": "code",
   "execution_count": 7,
   "metadata": {},
   "outputs": [],
   "source": [
    "ind_variables = [\n",
    "        'Points'\n",
    "#         'FGM', 'FGA', 'FG%', '3PTM', '3PA', '3P%', 'FTM', 'FTA', 'Points', \n",
    "#        'FT%', 'ORB', 'DRB', 'REB', 'AST', 'STL', 'BLK', 'TO', 'PF', 'PTS','+/-', \n",
    "#        'AvPoints', 'RollBckw1', 'RollBckw2'\n",
    "]\n",
    "\n",
    "dep_variables = 'RollFwrd1'\n",
    "        # ,'RollFwrd3'\n",
    "\n",
    "def get_dataframe(refresh: bool = False) -> pd.DataFrame:\n",
    "    if refresh is False:\n",
    "        data = pd.read_csv(\"all_stats.csv\", index_col=\"Unnamed: 0\")\n",
    "        data.reset_index(inplace=True, drop=True)\n",
    "        return data\n",
    "        \n",
    "data = get_dataframe(refresh=False)\n",
    "data = calculate_points(data, roll_backwards=[1,2], roll_forward=[1,3])\n",
    "data = data.loc[~data[dep_variables].isnull()]\n",
    "X, y = data[ind_variables], data[dep_variables]"
   ]
  },
  {
   "cell_type": "markdown",
   "metadata": {},
   "source": [
    "###"
   ]
  },
  {
   "cell_type": "markdown",
   "metadata": {},
   "source": [
    "### Model"
   ]
  },
  {
   "cell_type": "code",
   "execution_count": null,
   "metadata": {},
   "outputs": [],
   "source": [
    "model = pm.auto_arima(df.value, start_p=1, start_q=1,\n",
    "                      test='adf',       # use adftest to find optimal 'd'\n",
    "                      max_p=3, max_q=3, # maximum p and q\n",
    "                      m=1,              # frequency of series\n",
    "                      d=None,           # let model determine 'd'\n",
    "                      seasonal=False,   # No Seasonality\n",
    "                      start_P=0, \n",
    "                      D=0, \n",
    "                      trace=True,\n",
    "                      error_action='ignore',  \n",
    "                      suppress_warnings=True, \n",
    "                      stepwise=True)\n",
    "\n",
    "print(model.summary())"
   ]
  }
 ],
 "metadata": {
  "interpreter": {
   "hash": "0d4a805b0576b98258b97f04e24e58fd291b4c872dd471b2264779c09262e7e3"
  },
  "kernelspec": {
   "display_name": "Python 3.8.5 64-bit ('base': conda)",
   "language": "python",
   "name": "python3"
  },
  "language_info": {
   "codemirror_mode": {
    "name": "ipython",
    "version": 3
   },
   "file_extension": ".py",
   "mimetype": "text/x-python",
   "name": "python",
   "nbconvert_exporter": "python",
   "pygments_lexer": "ipython3",
   "version": "3.8.5"
  },
  "orig_nbformat": 4
 },
 "nbformat": 4,
 "nbformat_minor": 2
}
